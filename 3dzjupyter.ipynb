{
  "metadata": {
    "language_info": {
      "codemirror_mode": {
        "name": "python",
        "version": 3
      },
      "file_extension": ".py",
      "mimetype": "text/x-python",
      "name": "python",
      "nbconvert_exporter": "python",
      "pygments_lexer": "ipython3",
      "version": "3.8"
    },
    "kernelspec": {
      "name": "python",
      "display_name": "Python (Pyodide)",
      "language": "python"
    }
  },
  "nbformat_minor": 4,
  "nbformat": 4,
  "cells": [
    {
      "cell_type": "code",
      "source": "import pandas as pd\n",
      "metadata": {
        "trusted": true
      },
      "execution_count": 5,
      "outputs": []
    },
    {
      "cell_type": "code",
      "source": "",
      "metadata": {},
      "execution_count": null,
      "outputs": []
    },
    {
      "cell_type": "markdown",
      "source": "Считать данные с помощью pandas\nВывести на экран первые 5 строк",
      "metadata": {}
    },
    {
      "cell_type": "code",
      "source": "df = pd.read_csv('kc_house_data.csv', sep = ',', encoding= 'latin-1')\ndf.head()",
      "metadata": {
        "trusted": true
      },
      "execution_count": 6,
      "outputs": [
        {
          "execution_count": 6,
          "output_type": "execute_result",
          "data": {
            "text/plain": "                                                  id  date  price  bedrooms  \\\n0  7129300520,\"20141013T000000\",221900,3,1,1180,5...   NaN    NaN       NaN   \n1  6414100192,\"20141209T000000\",538000,3,2.25,257...   NaN    NaN       NaN   \n2  5631500400,\"20150225T000000\",180000,2,1,770,10...   NaN    NaN       NaN   \n3  2487200875,\"20141209T000000\",604000,4,3,1960,5...   NaN    NaN       NaN   \n4  1954400510,\"20150218T000000\",510000,3,2,1680,8...   NaN    NaN       NaN   \n\n   bathrooms  sqft_living  sqft_lot  floors  waterfront  view  ...  grade  \\\n0        NaN          NaN       NaN     NaN         NaN   NaN  ...    NaN   \n1        NaN          NaN       NaN     NaN         NaN   NaN  ...    NaN   \n2        NaN          NaN       NaN     NaN         NaN   NaN  ...    NaN   \n3        NaN          NaN       NaN     NaN         NaN   NaN  ...    NaN   \n4        NaN          NaN       NaN     NaN         NaN   NaN  ...    NaN   \n\n   sqft_above  sqft_basement  yr_built  yr_renovated  zipcode  lat  long  \\\n0         NaN            NaN       NaN           NaN      NaN  NaN   NaN   \n1         NaN            NaN       NaN           NaN      NaN  NaN   NaN   \n2         NaN            NaN       NaN           NaN      NaN  NaN   NaN   \n3         NaN            NaN       NaN           NaN      NaN  NaN   NaN   \n4         NaN            NaN       NaN           NaN      NaN  NaN   NaN   \n\n   sqft_living15  sqft_lot15  \n0            NaN         NaN  \n1            NaN         NaN  \n2            NaN         NaN  \n3            NaN         NaN  \n4            NaN         NaN  \n\n[5 rows x 21 columns]",
            "text/html": "<div>\n<style scoped>\n    .dataframe tbody tr th:only-of-type {\n        vertical-align: middle;\n    }\n\n    .dataframe tbody tr th {\n        vertical-align: top;\n    }\n\n    .dataframe thead th {\n        text-align: right;\n    }\n</style>\n<table border=\"1\" class=\"dataframe\">\n  <thead>\n    <tr style=\"text-align: right;\">\n      <th></th>\n      <th>id</th>\n      <th>date</th>\n      <th>price</th>\n      <th>bedrooms</th>\n      <th>bathrooms</th>\n      <th>sqft_living</th>\n      <th>sqft_lot</th>\n      <th>floors</th>\n      <th>waterfront</th>\n      <th>view</th>\n      <th>...</th>\n      <th>grade</th>\n      <th>sqft_above</th>\n      <th>sqft_basement</th>\n      <th>yr_built</th>\n      <th>yr_renovated</th>\n      <th>zipcode</th>\n      <th>lat</th>\n      <th>long</th>\n      <th>sqft_living15</th>\n      <th>sqft_lot15</th>\n    </tr>\n  </thead>\n  <tbody>\n    <tr>\n      <th>0</th>\n      <td>7129300520,\"20141013T000000\",221900,3,1,1180,5...</td>\n      <td>NaN</td>\n      <td>NaN</td>\n      <td>NaN</td>\n      <td>NaN</td>\n      <td>NaN</td>\n      <td>NaN</td>\n      <td>NaN</td>\n      <td>NaN</td>\n      <td>NaN</td>\n      <td>...</td>\n      <td>NaN</td>\n      <td>NaN</td>\n      <td>NaN</td>\n      <td>NaN</td>\n      <td>NaN</td>\n      <td>NaN</td>\n      <td>NaN</td>\n      <td>NaN</td>\n      <td>NaN</td>\n      <td>NaN</td>\n    </tr>\n    <tr>\n      <th>1</th>\n      <td>6414100192,\"20141209T000000\",538000,3,2.25,257...</td>\n      <td>NaN</td>\n      <td>NaN</td>\n      <td>NaN</td>\n      <td>NaN</td>\n      <td>NaN</td>\n      <td>NaN</td>\n      <td>NaN</td>\n      <td>NaN</td>\n      <td>NaN</td>\n      <td>...</td>\n      <td>NaN</td>\n      <td>NaN</td>\n      <td>NaN</td>\n      <td>NaN</td>\n      <td>NaN</td>\n      <td>NaN</td>\n      <td>NaN</td>\n      <td>NaN</td>\n      <td>NaN</td>\n      <td>NaN</td>\n    </tr>\n    <tr>\n      <th>2</th>\n      <td>5631500400,\"20150225T000000\",180000,2,1,770,10...</td>\n      <td>NaN</td>\n      <td>NaN</td>\n      <td>NaN</td>\n      <td>NaN</td>\n      <td>NaN</td>\n      <td>NaN</td>\n      <td>NaN</td>\n      <td>NaN</td>\n      <td>NaN</td>\n      <td>...</td>\n      <td>NaN</td>\n      <td>NaN</td>\n      <td>NaN</td>\n      <td>NaN</td>\n      <td>NaN</td>\n      <td>NaN</td>\n      <td>NaN</td>\n      <td>NaN</td>\n      <td>NaN</td>\n      <td>NaN</td>\n    </tr>\n    <tr>\n      <th>3</th>\n      <td>2487200875,\"20141209T000000\",604000,4,3,1960,5...</td>\n      <td>NaN</td>\n      <td>NaN</td>\n      <td>NaN</td>\n      <td>NaN</td>\n      <td>NaN</td>\n      <td>NaN</td>\n      <td>NaN</td>\n      <td>NaN</td>\n      <td>NaN</td>\n      <td>...</td>\n      <td>NaN</td>\n      <td>NaN</td>\n      <td>NaN</td>\n      <td>NaN</td>\n      <td>NaN</td>\n      <td>NaN</td>\n      <td>NaN</td>\n      <td>NaN</td>\n      <td>NaN</td>\n      <td>NaN</td>\n    </tr>\n    <tr>\n      <th>4</th>\n      <td>1954400510,\"20150218T000000\",510000,3,2,1680,8...</td>\n      <td>NaN</td>\n      <td>NaN</td>\n      <td>NaN</td>\n      <td>NaN</td>\n      <td>NaN</td>\n      <td>NaN</td>\n      <td>NaN</td>\n      <td>NaN</td>\n      <td>NaN</td>\n      <td>...</td>\n      <td>NaN</td>\n      <td>NaN</td>\n      <td>NaN</td>\n      <td>NaN</td>\n      <td>NaN</td>\n      <td>NaN</td>\n      <td>NaN</td>\n      <td>NaN</td>\n      <td>NaN</td>\n      <td>NaN</td>\n    </tr>\n  </tbody>\n</table>\n<p>5 rows × 21 columns</p>\n</div>"
          },
          "metadata": {}
        }
      ]
    },
    {
      "cell_type": "code",
      "source": "",
      "metadata": {},
      "execution_count": null,
      "outputs": []
    },
    {
      "cell_type": "markdown",
      "source": "1.2 Создать новый признак delta_renovated, который будет содержать разницу в годах между годом реновацией дома и годом постройки дома\nЕсли реновации дома не было, то в новом признаке поставьте 0",
      "metadata": {}
    },
    {
      "cell_type": "code",
      "source": "df.info()",
      "metadata": {
        "trusted": true
      },
      "execution_count": 10,
      "outputs": [
        {
          "name": "stdout",
          "text": "<class 'pandas.core.frame.DataFrame'>\nRangeIndex: 21613 entries, 0 to 21612\nData columns (total 22 columns):\n #   Column           Non-Null Count  Dtype  \n---  ------           --------------  -----  \n 0   id               21613 non-null  object \n 1   date             0 non-null      float64\n 2   price            0 non-null      float64\n 3   bedrooms         0 non-null      float64\n 4   bathrooms        0 non-null      float64\n 5   sqft_living      0 non-null      float64\n 6   sqft_lot         0 non-null      float64\n 7   floors           0 non-null      float64\n 8   waterfront       0 non-null      float64\n 9   view             0 non-null      float64\n 10  condition        0 non-null      float64\n 11  grade            0 non-null      float64\n 12  sqft_above       0 non-null      float64\n 13  sqft_basement    0 non-null      float64\n 14  yr_built         0 non-null      float64\n 15  yr_renovated     0 non-null      float64\n 16  zipcode          0 non-null      float64\n 17  lat              0 non-null      float64\n 18  long             0 non-null      float64\n 19  sqft_living15    0 non-null      float64\n 20  sqft_lot15       0 non-null      float64\n 21  delta_renovated  0 non-null      float64\ndtypes: float64(21), object(1)\nmemory usage: 3.5+ MB\n",
          "output_type": "stream"
        }
      ]
    },
    {
      "cell_type": "code",
      "source": "",
      "metadata": {},
      "execution_count": null,
      "outputs": []
    },
    {
      "cell_type": "markdown",
      "source": "1.2 Создать новый признак delta_renovated, который будет содержать разницу в годах между годом реновацией дома и годом постройки дома",
      "metadata": {}
    },
    {
      "cell_type": "code",
      "source": "df['delta_renovated'] = pd.to_numeric(df['yr_built']-['yr_renovated'])\ndf\n",
      "metadata": {
        "trusted": true
      },
      "execution_count": 13,
      "outputs": [
        {
          "ename": "<class 'AttributeError'>",
          "evalue": "'float' object has no attribute 'split'",
          "traceback": [
            "\u001b[0;31m---------------------------------------------------------------------------\u001b[0m",
            "\u001b[0;31mAttributeError\u001b[0m                            Traceback (most recent call last)",
            "Cell \u001b[0;32mIn[13], line 1\u001b[0m\n\u001b[0;32m----> 1\u001b[0m df[\u001b[38;5;124m'\u001b[39m\u001b[38;5;124myr_built\u001b[39m\u001b[38;5;124m'\u001b[39m] \u001b[38;5;241m=\u001b[39m \u001b[43mdf\u001b[49m\u001b[43m[\u001b[49m\u001b[38;5;124;43m'\u001b[39;49m\u001b[38;5;124;43myr_built\u001b[39;49m\u001b[38;5;124;43m'\u001b[39;49m\u001b[43m]\u001b[49m\u001b[38;5;241;43m.\u001b[39;49m\u001b[43mapply\u001b[49m\u001b[43m(\u001b[49m\u001b[38;5;28;43;01mlambda\u001b[39;49;00m\u001b[43m \u001b[49m\u001b[43mx\u001b[49m\u001b[43m:\u001b[49m\u001b[43m \u001b[49m\u001b[43mx\u001b[49m\u001b[38;5;241;43m.\u001b[39;49m\u001b[43msplit\u001b[49m\u001b[43m(\u001b[49m\u001b[38;5;124;43m\"\u001b[39;49m\u001b[38;5;124;43m \u001b[39;49m\u001b[38;5;124;43m\"\u001b[39;49m\u001b[43m)\u001b[49m\u001b[43m[\u001b[49m\u001b[38;5;241;43m0\u001b[39;49m\u001b[43m]\u001b[49m\u001b[43m)\u001b[49m\n\u001b[1;32m      2\u001b[0m df[\u001b[38;5;124m'\u001b[39m\u001b[38;5;124myr_renovated\u001b[39m\u001b[38;5;124m'\u001b[39m] \u001b[38;5;241m=\u001b[39m df[\u001b[38;5;124m'\u001b[39m\u001b[38;5;124myr_renovated\u001b[39m\u001b[38;5;124m'\u001b[39m]\u001b[38;5;241m.\u001b[39mapply(\u001b[38;5;28;01mlambda\u001b[39;00m x: x\u001b[38;5;241m.\u001b[39msplit(\u001b[38;5;124m\"\u001b[39m\u001b[38;5;124m \u001b[39m\u001b[38;5;124m\"\u001b[39m)[\u001b[38;5;241m0\u001b[39m])\n\u001b[1;32m      4\u001b[0m df[\u001b[38;5;124m'\u001b[39m\u001b[38;5;124mdelta_renovated\u001b[39m\u001b[38;5;124m'\u001b[39m] \u001b[38;5;241m=\u001b[39m pd\u001b[38;5;241m.\u001b[39mto_numeric(df[\u001b[38;5;124m'\u001b[39m\u001b[38;5;124myr_built\u001b[39m\u001b[38;5;124m'\u001b[39m]\u001b[38;5;241m-\u001b[39m[\u001b[38;5;124m'\u001b[39m\u001b[38;5;124myr_renovated\u001b[39m\u001b[38;5;124m'\u001b[39m])\n",
            "File \u001b[0;32m/lib/python3.10/site-packages/pandas/core/series.py:4771\u001b[0m, in \u001b[0;36mSeries.apply\u001b[0;34m(self, func, convert_dtype, args, **kwargs)\u001b[0m\n\u001b[1;32m   4661\u001b[0m \u001b[38;5;28;01mdef\u001b[39;00m \u001b[38;5;21mapply\u001b[39m(\n\u001b[1;32m   4662\u001b[0m     \u001b[38;5;28mself\u001b[39m,\n\u001b[1;32m   4663\u001b[0m     func: AggFuncType,\n\u001b[0;32m   (...)\u001b[0m\n\u001b[1;32m   4666\u001b[0m     \u001b[38;5;241m*\u001b[39m\u001b[38;5;241m*\u001b[39mkwargs,\n\u001b[1;32m   4667\u001b[0m ) \u001b[38;5;241m-\u001b[39m\u001b[38;5;241m>\u001b[39m DataFrame \u001b[38;5;241m|\u001b[39m Series:\n\u001b[1;32m   4668\u001b[0m     \u001b[38;5;124;03m\"\"\"\u001b[39;00m\n\u001b[1;32m   4669\u001b[0m \u001b[38;5;124;03m    Invoke function on values of Series.\u001b[39;00m\n\u001b[1;32m   4670\u001b[0m \n\u001b[0;32m   (...)\u001b[0m\n\u001b[1;32m   4769\u001b[0m \u001b[38;5;124;03m    dtype: float64\u001b[39;00m\n\u001b[1;32m   4770\u001b[0m \u001b[38;5;124;03m    \"\"\"\u001b[39;00m\n\u001b[0;32m-> 4771\u001b[0m     \u001b[38;5;28;01mreturn\u001b[39;00m \u001b[43mSeriesApply\u001b[49m\u001b[43m(\u001b[49m\u001b[38;5;28;43mself\u001b[39;49m\u001b[43m,\u001b[49m\u001b[43m \u001b[49m\u001b[43mfunc\u001b[49m\u001b[43m,\u001b[49m\u001b[43m \u001b[49m\u001b[43mconvert_dtype\u001b[49m\u001b[43m,\u001b[49m\u001b[43m \u001b[49m\u001b[43margs\u001b[49m\u001b[43m,\u001b[49m\u001b[43m \u001b[49m\u001b[43mkwargs\u001b[49m\u001b[43m)\u001b[49m\u001b[38;5;241;43m.\u001b[39;49m\u001b[43mapply\u001b[49m\u001b[43m(\u001b[49m\u001b[43m)\u001b[49m\n",
            "File \u001b[0;32m/lib/python3.10/site-packages/pandas/core/apply.py:1105\u001b[0m, in \u001b[0;36mSeriesApply.apply\u001b[0;34m(self)\u001b[0m\n\u001b[1;32m   1102\u001b[0m     \u001b[38;5;28;01mreturn\u001b[39;00m \u001b[38;5;28mself\u001b[39m\u001b[38;5;241m.\u001b[39mapply_str()\n\u001b[1;32m   1104\u001b[0m \u001b[38;5;66;03m# self.f is Callable\u001b[39;00m\n\u001b[0;32m-> 1105\u001b[0m \u001b[38;5;28;01mreturn\u001b[39;00m \u001b[38;5;28;43mself\u001b[39;49m\u001b[38;5;241;43m.\u001b[39;49m\u001b[43mapply_standard\u001b[49m\u001b[43m(\u001b[49m\u001b[43m)\u001b[49m\n",
            "File \u001b[0;32m/lib/python3.10/site-packages/pandas/core/apply.py:1156\u001b[0m, in \u001b[0;36mSeriesApply.apply_standard\u001b[0;34m(self)\u001b[0m\n\u001b[1;32m   1154\u001b[0m     \u001b[38;5;28;01melse\u001b[39;00m:\n\u001b[1;32m   1155\u001b[0m         values \u001b[38;5;241m=\u001b[39m obj\u001b[38;5;241m.\u001b[39mastype(\u001b[38;5;28mobject\u001b[39m)\u001b[38;5;241m.\u001b[39m_values\n\u001b[0;32m-> 1156\u001b[0m         mapped \u001b[38;5;241m=\u001b[39m \u001b[43mlib\u001b[49m\u001b[38;5;241;43m.\u001b[39;49m\u001b[43mmap_infer\u001b[49m\u001b[43m(\u001b[49m\n\u001b[1;32m   1157\u001b[0m \u001b[43m            \u001b[49m\u001b[43mvalues\u001b[49m\u001b[43m,\u001b[49m\n\u001b[1;32m   1158\u001b[0m \u001b[43m            \u001b[49m\u001b[43mf\u001b[49m\u001b[43m,\u001b[49m\n\u001b[1;32m   1159\u001b[0m \u001b[43m            \u001b[49m\u001b[43mconvert\u001b[49m\u001b[38;5;241;43m=\u001b[39;49m\u001b[38;5;28;43mself\u001b[39;49m\u001b[38;5;241;43m.\u001b[39;49m\u001b[43mconvert_dtype\u001b[49m\u001b[43m,\u001b[49m\n\u001b[1;32m   1160\u001b[0m \u001b[43m        \u001b[49m\u001b[43m)\u001b[49m\n\u001b[1;32m   1162\u001b[0m \u001b[38;5;28;01mif\u001b[39;00m \u001b[38;5;28mlen\u001b[39m(mapped) \u001b[38;5;129;01mand\u001b[39;00m \u001b[38;5;28misinstance\u001b[39m(mapped[\u001b[38;5;241m0\u001b[39m], ABCSeries):\n\u001b[1;32m   1163\u001b[0m     \u001b[38;5;66;03m# GH#43986 Need to do list(mapped) in order to get treated as nested\u001b[39;00m\n\u001b[1;32m   1164\u001b[0m     \u001b[38;5;66;03m#  See also GH#25959 regarding EA support\u001b[39;00m\n\u001b[1;32m   1165\u001b[0m     \u001b[38;5;28;01mreturn\u001b[39;00m obj\u001b[38;5;241m.\u001b[39m_constructor_expanddim(\u001b[38;5;28mlist\u001b[39m(mapped), index\u001b[38;5;241m=\u001b[39mobj\u001b[38;5;241m.\u001b[39mindex)\n",
            "File \u001b[0;32m/lib/python3.10/site-packages/pandas/_libs/lib.pyx:2918\u001b[0m, in \u001b[0;36mpandas._libs.lib.map_infer\u001b[0;34m()\u001b[0m\n",
            "Cell \u001b[0;32mIn[13], line 1\u001b[0m, in \u001b[0;36m<lambda>\u001b[0;34m(x)\u001b[0m\n\u001b[0;32m----> 1\u001b[0m df[\u001b[38;5;124m'\u001b[39m\u001b[38;5;124myr_built\u001b[39m\u001b[38;5;124m'\u001b[39m] \u001b[38;5;241m=\u001b[39m df[\u001b[38;5;124m'\u001b[39m\u001b[38;5;124myr_built\u001b[39m\u001b[38;5;124m'\u001b[39m]\u001b[38;5;241m.\u001b[39mapply(\u001b[38;5;28;01mlambda\u001b[39;00m x: \u001b[43mx\u001b[49m\u001b[38;5;241;43m.\u001b[39;49m\u001b[43msplit\u001b[49m(\u001b[38;5;124m\"\u001b[39m\u001b[38;5;124m \u001b[39m\u001b[38;5;124m\"\u001b[39m)[\u001b[38;5;241m0\u001b[39m])\n\u001b[1;32m      2\u001b[0m df[\u001b[38;5;124m'\u001b[39m\u001b[38;5;124myr_renovated\u001b[39m\u001b[38;5;124m'\u001b[39m] \u001b[38;5;241m=\u001b[39m df[\u001b[38;5;124m'\u001b[39m\u001b[38;5;124myr_renovated\u001b[39m\u001b[38;5;124m'\u001b[39m]\u001b[38;5;241m.\u001b[39mapply(\u001b[38;5;28;01mlambda\u001b[39;00m x: x\u001b[38;5;241m.\u001b[39msplit(\u001b[38;5;124m\"\u001b[39m\u001b[38;5;124m \u001b[39m\u001b[38;5;124m\"\u001b[39m)[\u001b[38;5;241m0\u001b[39m])\n\u001b[1;32m      4\u001b[0m df[\u001b[38;5;124m'\u001b[39m\u001b[38;5;124mdelta_renovated\u001b[39m\u001b[38;5;124m'\u001b[39m] \u001b[38;5;241m=\u001b[39m pd\u001b[38;5;241m.\u001b[39mto_numeric(df[\u001b[38;5;124m'\u001b[39m\u001b[38;5;124myr_built\u001b[39m\u001b[38;5;124m'\u001b[39m]\u001b[38;5;241m-\u001b[39m[\u001b[38;5;124m'\u001b[39m\u001b[38;5;124myr_renovated\u001b[39m\u001b[38;5;124m'\u001b[39m])\n",
            "\u001b[0;31mAttributeError\u001b[0m: 'float' object has no attribute 'split'"
          ],
          "output_type": "error"
        }
      ]
    },
    {
      "cell_type": "raw",
      "source": "1.3 Создайте признаки года продажи, месяца продажи",
      "metadata": {}
    },
    {
      "cell_type": "code",
      "source": "def convert2(x):\n    memory = x.split('date')\n    res = memory[1:]\n    return ' '.join(res)\n    df['date'] = df['date of sale'].apply(convert2)\n    df",
      "metadata": {
        "trusted": true
      },
      "execution_count": 15,
      "outputs": []
    },
    {
      "cell_type": "code",
      "source": "",
      "metadata": {},
      "execution_count": null,
      "outputs": []
    },
    {
      "cell_type": "markdown",
      "source": "1.4 Удалите признаки date, zipcode, lat, long",
      "metadata": {}
    },
    {
      "cell_type": "code",
      "source": "df.drop(columns=['date', 'zipcode','lat', 'long'], inplace=True)\ndf.head()",
      "metadata": {
        "trusted": true
      },
      "execution_count": 16,
      "outputs": [
        {
          "execution_count": 16,
          "output_type": "execute_result",
          "data": {
            "text/plain": "                                                  id  price  bedrooms  \\\n0  7129300520,\"20141013T000000\",221900,3,1,1180,5...    NaN       NaN   \n1  6414100192,\"20141209T000000\",538000,3,2.25,257...    NaN       NaN   \n2  5631500400,\"20150225T000000\",180000,2,1,770,10...    NaN       NaN   \n3  2487200875,\"20141209T000000\",604000,4,3,1960,5...    NaN       NaN   \n4  1954400510,\"20150218T000000\",510000,3,2,1680,8...    NaN       NaN   \n\n   bathrooms  sqft_living  sqft_lot  floors  waterfront  view  condition  \\\n0        NaN          NaN       NaN     NaN         NaN   NaN        NaN   \n1        NaN          NaN       NaN     NaN         NaN   NaN        NaN   \n2        NaN          NaN       NaN     NaN         NaN   NaN        NaN   \n3        NaN          NaN       NaN     NaN         NaN   NaN        NaN   \n4        NaN          NaN       NaN     NaN         NaN   NaN        NaN   \n\n   grade  sqft_above  sqft_basement  yr_built  yr_renovated  sqft_living15  \\\n0    NaN         NaN            NaN       NaN           NaN            NaN   \n1    NaN         NaN            NaN       NaN           NaN            NaN   \n2    NaN         NaN            NaN       NaN           NaN            NaN   \n3    NaN         NaN            NaN       NaN           NaN            NaN   \n4    NaN         NaN            NaN       NaN           NaN            NaN   \n\n   sqft_lot15  delta_renovated  \n0         NaN              NaN  \n1         NaN              NaN  \n2         NaN              NaN  \n3         NaN              NaN  \n4         NaN              NaN  ",
            "text/html": "<div>\n<style scoped>\n    .dataframe tbody tr th:only-of-type {\n        vertical-align: middle;\n    }\n\n    .dataframe tbody tr th {\n        vertical-align: top;\n    }\n\n    .dataframe thead th {\n        text-align: right;\n    }\n</style>\n<table border=\"1\" class=\"dataframe\">\n  <thead>\n    <tr style=\"text-align: right;\">\n      <th></th>\n      <th>id</th>\n      <th>price</th>\n      <th>bedrooms</th>\n      <th>bathrooms</th>\n      <th>sqft_living</th>\n      <th>sqft_lot</th>\n      <th>floors</th>\n      <th>waterfront</th>\n      <th>view</th>\n      <th>condition</th>\n      <th>grade</th>\n      <th>sqft_above</th>\n      <th>sqft_basement</th>\n      <th>yr_built</th>\n      <th>yr_renovated</th>\n      <th>sqft_living15</th>\n      <th>sqft_lot15</th>\n      <th>delta_renovated</th>\n    </tr>\n  </thead>\n  <tbody>\n    <tr>\n      <th>0</th>\n      <td>7129300520,\"20141013T000000\",221900,3,1,1180,5...</td>\n      <td>NaN</td>\n      <td>NaN</td>\n      <td>NaN</td>\n      <td>NaN</td>\n      <td>NaN</td>\n      <td>NaN</td>\n      <td>NaN</td>\n      <td>NaN</td>\n      <td>NaN</td>\n      <td>NaN</td>\n      <td>NaN</td>\n      <td>NaN</td>\n      <td>NaN</td>\n      <td>NaN</td>\n      <td>NaN</td>\n      <td>NaN</td>\n      <td>NaN</td>\n    </tr>\n    <tr>\n      <th>1</th>\n      <td>6414100192,\"20141209T000000\",538000,3,2.25,257...</td>\n      <td>NaN</td>\n      <td>NaN</td>\n      <td>NaN</td>\n      <td>NaN</td>\n      <td>NaN</td>\n      <td>NaN</td>\n      <td>NaN</td>\n      <td>NaN</td>\n      <td>NaN</td>\n      <td>NaN</td>\n      <td>NaN</td>\n      <td>NaN</td>\n      <td>NaN</td>\n      <td>NaN</td>\n      <td>NaN</td>\n      <td>NaN</td>\n      <td>NaN</td>\n    </tr>\n    <tr>\n      <th>2</th>\n      <td>5631500400,\"20150225T000000\",180000,2,1,770,10...</td>\n      <td>NaN</td>\n      <td>NaN</td>\n      <td>NaN</td>\n      <td>NaN</td>\n      <td>NaN</td>\n      <td>NaN</td>\n      <td>NaN</td>\n      <td>NaN</td>\n      <td>NaN</td>\n      <td>NaN</td>\n      <td>NaN</td>\n      <td>NaN</td>\n      <td>NaN</td>\n      <td>NaN</td>\n      <td>NaN</td>\n      <td>NaN</td>\n      <td>NaN</td>\n    </tr>\n    <tr>\n      <th>3</th>\n      <td>2487200875,\"20141209T000000\",604000,4,3,1960,5...</td>\n      <td>NaN</td>\n      <td>NaN</td>\n      <td>NaN</td>\n      <td>NaN</td>\n      <td>NaN</td>\n      <td>NaN</td>\n      <td>NaN</td>\n      <td>NaN</td>\n      <td>NaN</td>\n      <td>NaN</td>\n      <td>NaN</td>\n      <td>NaN</td>\n      <td>NaN</td>\n      <td>NaN</td>\n      <td>NaN</td>\n      <td>NaN</td>\n      <td>NaN</td>\n    </tr>\n    <tr>\n      <th>4</th>\n      <td>1954400510,\"20150218T000000\",510000,3,2,1680,8...</td>\n      <td>NaN</td>\n      <td>NaN</td>\n      <td>NaN</td>\n      <td>NaN</td>\n      <td>NaN</td>\n      <td>NaN</td>\n      <td>NaN</td>\n      <td>NaN</td>\n      <td>NaN</td>\n      <td>NaN</td>\n      <td>NaN</td>\n      <td>NaN</td>\n      <td>NaN</td>\n      <td>NaN</td>\n      <td>NaN</td>\n      <td>NaN</td>\n      <td>NaN</td>\n    </tr>\n  </tbody>\n</table>\n</div>"
          },
          "metadata": {}
        }
      ]
    },
    {
      "cell_type": "code",
      "source": "",
      "metadata": {},
      "execution_count": null,
      "outputs": []
    },
    {
      "cell_type": "markdown",
      "source": "Создайте датафрейм с клиентами:\nclients = pd.DataFrame({\n'client_id': [1459, 4684, 3498, 3942, 4535, 2308, 2866, 2765, 1472, 4236, 2295,\n939, 3840, 280, 20, 4332, 3475, 4213, 3113, 4809, 2134, 2242,\n2068, 4929, 1384, 1589, 3317, 2260, 1727, 1764, 1611, 1474],\n'house_id': [8965450190, 6823100225, 5104540330, 2131701075, 1522700060,\n1189000207, 6821600300, 7137950720, 9510920050, 6131600255,\n5428000070, 1788800910, 8100400160, 3123049142, 6306800010,\n5083000375, 7920100025, 1951600150, 809001400, 339600110,\n1622049154, 1099600250, 8563000110, 2768100205, 3995700435,\n8861700030, 3303980210, 7731100066, 8146100580, 825069097,\n3889100029, 9524100196]\n})",
      "metadata": {}
    },
    {
      "cell_type": "code",
      "source": "clients = pd.DataFrame({\n    'client_id': [1459, 4684, 3498, 3942, 4535, 2308, 2866, 2765, 1472, 4236, 2295,\n939, 3840, 280, 20, 4332, 3475, 4213, 3113, 4809, 2134, 2242,\n2068, 4929, 1384, 1589, 3317, 2260, 1727, 1764, 1611, 1474],\n    'house_id': [8965450190, 6823100225, 5104540330, 2131701075, 1522700060,\n1189000207, 6821600300, 7137950720, 9510920050, 6131600255,\n5428000070, 1788800910, 8100400160, 3123049142, 6306800010,\n5083000375, 7920100025, 1951600150, 809001400, 339600110,\n1622049154, 1099600250, 8563000110, 2768100205, 3995700435,\n8861700030, 3303980210, 7731100066, 8146100580, 825069097,\n3889100029, 9524100196]\n})\n",
      "metadata": {
        "trusted": true
      },
      "execution_count": 22,
      "outputs": []
    },
    {
      "cell_type": "code",
      "source": "clients2 = clients.set_index('house_id')",
      "metadata": {
        "trusted": true
      },
      "execution_count": 23,
      "outputs": []
    },
    {
      "cell_type": "code",
      "source": "clients2",
      "metadata": {
        "trusted": true
      },
      "execution_count": 24,
      "outputs": [
        {
          "execution_count": 24,
          "output_type": "execute_result",
          "data": {
            "text/plain": "            client_id\nhouse_id             \n8965450190       1459\n6823100225       4684\n5104540330       3498\n2131701075       3942\n1522700060       4535\n1189000207       2308\n6821600300       2866\n7137950720       2765\n9510920050       1472\n6131600255       4236\n5428000070       2295\n1788800910        939\n8100400160       3840\n3123049142        280\n6306800010         20\n5083000375       4332\n7920100025       3475\n1951600150       4213\n809001400        3113\n339600110        4809\n1622049154       2134\n1099600250       2242\n8563000110       2068\n2768100205       4929\n3995700435       1384\n8861700030       1589\n3303980210       3317\n7731100066       2260\n8146100580       1727\n825069097        1764\n3889100029       1611\n9524100196       1474",
            "text/html": "<div>\n<style scoped>\n    .dataframe tbody tr th:only-of-type {\n        vertical-align: middle;\n    }\n\n    .dataframe tbody tr th {\n        vertical-align: top;\n    }\n\n    .dataframe thead th {\n        text-align: right;\n    }\n</style>\n<table border=\"1\" class=\"dataframe\">\n  <thead>\n    <tr style=\"text-align: right;\">\n      <th></th>\n      <th>client_id</th>\n    </tr>\n    <tr>\n      <th>house_id</th>\n      <th></th>\n    </tr>\n  </thead>\n  <tbody>\n    <tr>\n      <th>8965450190</th>\n      <td>1459</td>\n    </tr>\n    <tr>\n      <th>6823100225</th>\n      <td>4684</td>\n    </tr>\n    <tr>\n      <th>5104540330</th>\n      <td>3498</td>\n    </tr>\n    <tr>\n      <th>2131701075</th>\n      <td>3942</td>\n    </tr>\n    <tr>\n      <th>1522700060</th>\n      <td>4535</td>\n    </tr>\n    <tr>\n      <th>1189000207</th>\n      <td>2308</td>\n    </tr>\n    <tr>\n      <th>6821600300</th>\n      <td>2866</td>\n    </tr>\n    <tr>\n      <th>7137950720</th>\n      <td>2765</td>\n    </tr>\n    <tr>\n      <th>9510920050</th>\n      <td>1472</td>\n    </tr>\n    <tr>\n      <th>6131600255</th>\n      <td>4236</td>\n    </tr>\n    <tr>\n      <th>5428000070</th>\n      <td>2295</td>\n    </tr>\n    <tr>\n      <th>1788800910</th>\n      <td>939</td>\n    </tr>\n    <tr>\n      <th>8100400160</th>\n      <td>3840</td>\n    </tr>\n    <tr>\n      <th>3123049142</th>\n      <td>280</td>\n    </tr>\n    <tr>\n      <th>6306800010</th>\n      <td>20</td>\n    </tr>\n    <tr>\n      <th>5083000375</th>\n      <td>4332</td>\n    </tr>\n    <tr>\n      <th>7920100025</th>\n      <td>3475</td>\n    </tr>\n    <tr>\n      <th>1951600150</th>\n      <td>4213</td>\n    </tr>\n    <tr>\n      <th>809001400</th>\n      <td>3113</td>\n    </tr>\n    <tr>\n      <th>339600110</th>\n      <td>4809</td>\n    </tr>\n    <tr>\n      <th>1622049154</th>\n      <td>2134</td>\n    </tr>\n    <tr>\n      <th>1099600250</th>\n      <td>2242</td>\n    </tr>\n    <tr>\n      <th>8563000110</th>\n      <td>2068</td>\n    </tr>\n    <tr>\n      <th>2768100205</th>\n      <td>4929</td>\n    </tr>\n    <tr>\n      <th>3995700435</th>\n      <td>1384</td>\n    </tr>\n    <tr>\n      <th>8861700030</th>\n      <td>1589</td>\n    </tr>\n    <tr>\n      <th>3303980210</th>\n      <td>3317</td>\n    </tr>\n    <tr>\n      <th>7731100066</th>\n      <td>2260</td>\n    </tr>\n    <tr>\n      <th>8146100580</th>\n      <td>1727</td>\n    </tr>\n    <tr>\n      <th>825069097</th>\n      <td>1764</td>\n    </tr>\n    <tr>\n      <th>3889100029</th>\n      <td>1611</td>\n    </tr>\n    <tr>\n      <th>9524100196</th>\n      <td>1474</td>\n    </tr>\n  </tbody>\n</table>\n</div>"
          },
          "metadata": {}
        }
      ]
    },
    {
      "cell_type": "code",
      "source": "df",
      "metadata": {
        "trusted": true
      },
      "execution_count": 25,
      "outputs": [
        {
          "execution_count": 25,
          "output_type": "execute_result",
          "data": {
            "text/plain": "                                                                                   ,0,0,3,7,3040,0,1999,0,98030\"  \\\n7663700610 20150310T000000 477500.0 4 1.75 1860 9364  1.0 0 0 3 7 1080 780 1953 0                          98125   \n7520000330 20140813T000000 285000.0 3 2.50 1690 7460  1.0 0 0 3 7 870  820 1997 0                          98146   \n1521049156 20141010T000000 255000.0 3 2.75 1900 16117 1.0 0 0 4 7 1900 0   1958 0                          98001   \n6648760150 20140728T000000 315000.0 3 2.50 1600 7982  2.0 0 0 3 8 1600 0   1993 0                          98001   \n1807900300 20141217T000000 830000.0 6 3.00 2530 9000  1.0 0 0 3 6 2530 0   1978 0                          98033   \n...                                                                                                          ...   \n263000018  20140521T000000 360000.0 3 2.50 1530 1131  3.0 0 0 3 8 1530 0   2009 0                          98103   \n6600060120 20150223T000000 400000.0 4 2.50 2310 5813  2.0 0 0 3 8 2310 0   2014 0                          98146   \n1523300141 20140623T000000 402101.0 2 0.75 1020 1350  2.0 0 0 3 7 1020 0   2009 0                          98144   \n291310100  20150116T000000 400000.0 3 2.50 1600 2388  2.0 0 0 3 8 1600 0   2004 0                          98027   \n1523300157 20141015T000000 325000.0 2 0.75 1020 1076  2.0 0 0 3 7 1020 0   2008 0                          98144   \n\n                                                                                   47.3817  \\\n7663700610 20150310T000000 477500.0 4 1.75 1860 9364  1.0 0 0 3 7 1080 780 1953 0  47.7310   \n7520000330 20140813T000000 285000.0 3 2.50 1690 7460  1.0 0 0 3 7 870  820 1997 0  47.4964   \n1521049156 20141010T000000 255000.0 3 2.75 1900 16117 1.0 0 0 4 7 1900 0   1958 0  47.3144   \n6648760150 20140728T000000 315000.0 3 2.50 1600 7982  2.0 0 0 3 8 1600 0   1993 0  47.3397   \n1807900300 20141217T000000 830000.0 6 3.00 2530 9000  1.0 0 0 3 6 2530 0   1978 0  47.6716   \n...                                                                                    ...   \n263000018  20140521T000000 360000.0 3 2.50 1530 1131  3.0 0 0 3 8 1530 0   2009 0  47.6993   \n6600060120 20150223T000000 400000.0 4 2.50 2310 5813  2.0 0 0 3 8 2310 0   2014 0  47.5107   \n1523300141 20140623T000000 402101.0 2 0.75 1020 1350  2.0 0 0 3 7 1020 0   2009 0  47.5944   \n291310100  20150116T000000 400000.0 3 2.50 1600 2388  2.0 0 0 3 8 1600 0   2004 0  47.5345   \n1523300157 20141015T000000 325000.0 2 0.75 1020 1076  2.0 0 0 3 7 1020 0   2008 0  47.5941   \n\n                                                                                   -122.206  \\\n7663700610 20150310T000000 477500.0 4 1.75 1860 9364  1.0 0 0 3 7 1080 780 1953 0  -122.301   \n7520000330 20140813T000000 285000.0 3 2.50 1690 7460  1.0 0 0 3 7 870  820 1997 0  -122.353   \n1521049156 20141010T000000 255000.0 3 2.75 1900 16117 1.0 0 0 4 7 1900 0   1958 0  -122.278   \n6648760150 20140728T000000 315000.0 3 2.50 1600 7982  2.0 0 0 3 8 1600 0   1993 0  -122.266   \n1807900300 20141217T000000 830000.0 6 3.00 2530 9000  1.0 0 0 3 6 2530 0   1978 0  -122.199   \n...                                                                                     ...   \n263000018  20140521T000000 360000.0 3 2.50 1530 1131  3.0 0 0 3 8 1530 0   2009 0  -122.346   \n6600060120 20150223T000000 400000.0 4 2.50 2310 5813  2.0 0 0 3 8 2310 0   2014 0  -122.362   \n1523300141 20140623T000000 402101.0 2 0.75 1020 1350  2.0 0 0 3 7 1020 0   2009 0  -122.299   \n291310100  20150116T000000 400000.0 3 2.50 1600 2388  2.0 0 0 3 8 1600 0   2004 0  -122.069   \n1523300157 20141015T000000 325000.0 2 0.75 1020 1076  2.0 0 0 3 7 1020 0   2008 0  -122.299   \n\n                                                                                   2670  \\\n7663700610 20150310T000000 477500.0 4 1.75 1860 9364  1.0 0 0 3 7 1080 780 1953 0  1800   \n7520000330 20140813T000000 285000.0 3 2.50 1690 7460  1.0 0 0 3 7 870  820 1997 0  1900   \n1521049156 20141010T000000 255000.0 3 2.75 1900 16117 1.0 0 0 4 7 1900 0   1958 0  1640   \n6648760150 20140728T000000 315000.0 3 2.50 1600 7982  2.0 0 0 3 8 1600 0   1993 0  1890   \n1807900300 20141217T000000 830000.0 6 3.00 2530 9000  1.0 0 0 3 6 2530 0   1978 0  1886   \n...                                                                                 ...   \n263000018  20140521T000000 360000.0 3 2.50 1530 1131  3.0 0 0 3 8 1530 0   2009 0  1530   \n6600060120 20150223T000000 400000.0 4 2.50 2310 5813  2.0 0 0 3 8 2310 0   2014 0  1830   \n1523300141 20140623T000000 402101.0 2 0.75 1020 1350  2.0 0 0 3 7 1020 0   2009 0  1020   \n291310100  20150116T000000 400000.0 3 2.50 1600 2388  2.0 0 0 3 8 1600 0   2004 0  1410   \n1523300157 20141015T000000 325000.0 2 0.75 1020 1076  2.0 0 0 3 7 1020 0   2008 0  1020   \n\n                                                                                    6259  \\\n7663700610 20150310T000000 477500.0 4 1.75 1860 9364  1.0 0 0 3 7 1080 780 1953 0   9364   \n7520000330 20140813T000000 285000.0 3 2.50 1690 7460  1.0 0 0 3 7 870  820 1997 0   7302   \n1521049156 20141010T000000 255000.0 3 2.75 1900 16117 1.0 0 0 4 7 1900 0   1958 0  19166   \n6648760150 20140728T000000 315000.0 3 2.50 1600 7982  2.0 0 0 3 8 1600 0   1993 0   9830   \n1807900300 20141217T000000 830000.0 6 3.00 2530 9000  1.0 0 0 3 6 2530 0   1978 0   6000   \n...                                                                                  ...   \n263000018  20140521T000000 360000.0 3 2.50 1530 1131  3.0 0 0 3 8 1530 0   2009 0   1509   \n6600060120 20150223T000000 400000.0 4 2.50 2310 5813  2.0 0 0 3 8 2310 0   2014 0   7200   \n1523300141 20140623T000000 402101.0 2 0.75 1020 1350  2.0 0 0 3 7 1020 0   2009 0   2007   \n291310100  20150116T000000 400000.0 3 2.50 1600 2388  2.0 0 0 3 8 1600 0   2004 0   1287   \n1523300157 20141015T000000 325000.0 2 0.75 1020 1076  2.0 0 0 3 7 1020 0   2008 0   1357   \n\n                                                                                   delta_renovated  \n7663700610 20150310T000000 477500.0 4 1.75 1860 9364  1.0 0 0 3 7 1080 780 1953 0         -122.301  \n7520000330 20140813T000000 285000.0 3 2.50 1690 7460  1.0 0 0 3 7 870  820 1997 0         -122.353  \n1521049156 20141010T000000 255000.0 3 2.75 1900 16117 1.0 0 0 4 7 1900 0   1958 0         -122.278  \n6648760150 20140728T000000 315000.0 3 2.50 1600 7982  2.0 0 0 3 8 1600 0   1993 0         -122.266  \n1807900300 20141217T000000 830000.0 6 3.00 2530 9000  1.0 0 0 3 6 2530 0   1978 0         -122.199  \n...                                                                                            ...  \n263000018  20140521T000000 360000.0 3 2.50 1530 1131  3.0 0 0 3 8 1530 0   2009 0         -122.346  \n6600060120 20150223T000000 400000.0 4 2.50 2310 5813  2.0 0 0 3 8 2310 0   2014 0         -122.362  \n1523300141 20140623T000000 402101.0 2 0.75 1020 1350  2.0 0 0 3 7 1020 0   2009 0         -122.299  \n291310100  20150116T000000 400000.0 3 2.50 1600 2388  2.0 0 0 3 8 1600 0   2004 0         -122.069  \n1523300157 20141015T000000 325000.0 2 0.75 1020 1076  2.0 0 0 3 7 1020 0   2008 0         -122.299  \n\n[3596 rows x 6 columns]",
            "text/html": "<div>\n<style scoped>\n    .dataframe tbody tr th:only-of-type {\n        vertical-align: middle;\n    }\n\n    .dataframe tbody tr th {\n        vertical-align: top;\n    }\n\n    .dataframe thead th {\n        text-align: right;\n    }\n</style>\n<table border=\"1\" class=\"dataframe\">\n  <thead>\n    <tr style=\"text-align: right;\">\n      <th></th>\n      <th></th>\n      <th></th>\n      <th></th>\n      <th></th>\n      <th></th>\n      <th></th>\n      <th></th>\n      <th></th>\n      <th></th>\n      <th></th>\n      <th></th>\n      <th></th>\n      <th></th>\n      <th></th>\n      <th></th>\n      <th>,0,0,3,7,3040,0,1999,0,98030\"</th>\n      <th>47.3817</th>\n      <th>-122.206</th>\n      <th>2670</th>\n      <th>6259</th>\n      <th>delta_renovated</th>\n    </tr>\n  </thead>\n  <tbody>\n    <tr>\n      <th>7663700610</th>\n      <th>20150310T000000</th>\n      <th>477500.0</th>\n      <th>4</th>\n      <th>1.75</th>\n      <th>1860</th>\n      <th>9364</th>\n      <th>1.0</th>\n      <th>0</th>\n      <th>0</th>\n      <th>3</th>\n      <th>7</th>\n      <th>1080</th>\n      <th>780</th>\n      <th>1953</th>\n      <th>0</th>\n      <td>98125</td>\n      <td>47.7310</td>\n      <td>-122.301</td>\n      <td>1800</td>\n      <td>9364</td>\n      <td>-122.301</td>\n    </tr>\n    <tr>\n      <th>7520000330</th>\n      <th>20140813T000000</th>\n      <th>285000.0</th>\n      <th>3</th>\n      <th>2.50</th>\n      <th>1690</th>\n      <th>7460</th>\n      <th>1.0</th>\n      <th>0</th>\n      <th>0</th>\n      <th>3</th>\n      <th>7</th>\n      <th>870</th>\n      <th>820</th>\n      <th>1997</th>\n      <th>0</th>\n      <td>98146</td>\n      <td>47.4964</td>\n      <td>-122.353</td>\n      <td>1900</td>\n      <td>7302</td>\n      <td>-122.353</td>\n    </tr>\n    <tr>\n      <th>1521049156</th>\n      <th>20141010T000000</th>\n      <th>255000.0</th>\n      <th>3</th>\n      <th>2.75</th>\n      <th>1900</th>\n      <th>16117</th>\n      <th>1.0</th>\n      <th>0</th>\n      <th>0</th>\n      <th>4</th>\n      <th>7</th>\n      <th>1900</th>\n      <th>0</th>\n      <th>1958</th>\n      <th>0</th>\n      <td>98001</td>\n      <td>47.3144</td>\n      <td>-122.278</td>\n      <td>1640</td>\n      <td>19166</td>\n      <td>-122.278</td>\n    </tr>\n    <tr>\n      <th>6648760150</th>\n      <th>20140728T000000</th>\n      <th>315000.0</th>\n      <th>3</th>\n      <th>2.50</th>\n      <th>1600</th>\n      <th>7982</th>\n      <th>2.0</th>\n      <th>0</th>\n      <th>0</th>\n      <th>3</th>\n      <th>8</th>\n      <th>1600</th>\n      <th>0</th>\n      <th>1993</th>\n      <th>0</th>\n      <td>98001</td>\n      <td>47.3397</td>\n      <td>-122.266</td>\n      <td>1890</td>\n      <td>9830</td>\n      <td>-122.266</td>\n    </tr>\n    <tr>\n      <th>1807900300</th>\n      <th>20141217T000000</th>\n      <th>830000.0</th>\n      <th>6</th>\n      <th>3.00</th>\n      <th>2530</th>\n      <th>9000</th>\n      <th>1.0</th>\n      <th>0</th>\n      <th>0</th>\n      <th>3</th>\n      <th>6</th>\n      <th>2530</th>\n      <th>0</th>\n      <th>1978</th>\n      <th>0</th>\n      <td>98033</td>\n      <td>47.6716</td>\n      <td>-122.199</td>\n      <td>1886</td>\n      <td>6000</td>\n      <td>-122.199</td>\n    </tr>\n    <tr>\n      <th>...</th>\n      <th>...</th>\n      <th>...</th>\n      <th>...</th>\n      <th>...</th>\n      <th>...</th>\n      <th>...</th>\n      <th>...</th>\n      <th>...</th>\n      <th>...</th>\n      <th>...</th>\n      <th>...</th>\n      <th>...</th>\n      <th>...</th>\n      <th>...</th>\n      <th>...</th>\n      <td>...</td>\n      <td>...</td>\n      <td>...</td>\n      <td>...</td>\n      <td>...</td>\n      <td>...</td>\n    </tr>\n    <tr>\n      <th>263000018</th>\n      <th>20140521T000000</th>\n      <th>360000.0</th>\n      <th>3</th>\n      <th>2.50</th>\n      <th>1530</th>\n      <th>1131</th>\n      <th>3.0</th>\n      <th>0</th>\n      <th>0</th>\n      <th>3</th>\n      <th>8</th>\n      <th>1530</th>\n      <th>0</th>\n      <th>2009</th>\n      <th>0</th>\n      <td>98103</td>\n      <td>47.6993</td>\n      <td>-122.346</td>\n      <td>1530</td>\n      <td>1509</td>\n      <td>-122.346</td>\n    </tr>\n    <tr>\n      <th>6600060120</th>\n      <th>20150223T000000</th>\n      <th>400000.0</th>\n      <th>4</th>\n      <th>2.50</th>\n      <th>2310</th>\n      <th>5813</th>\n      <th>2.0</th>\n      <th>0</th>\n      <th>0</th>\n      <th>3</th>\n      <th>8</th>\n      <th>2310</th>\n      <th>0</th>\n      <th>2014</th>\n      <th>0</th>\n      <td>98146</td>\n      <td>47.5107</td>\n      <td>-122.362</td>\n      <td>1830</td>\n      <td>7200</td>\n      <td>-122.362</td>\n    </tr>\n    <tr>\n      <th>1523300141</th>\n      <th>20140623T000000</th>\n      <th>402101.0</th>\n      <th>2</th>\n      <th>0.75</th>\n      <th>1020</th>\n      <th>1350</th>\n      <th>2.0</th>\n      <th>0</th>\n      <th>0</th>\n      <th>3</th>\n      <th>7</th>\n      <th>1020</th>\n      <th>0</th>\n      <th>2009</th>\n      <th>0</th>\n      <td>98144</td>\n      <td>47.5944</td>\n      <td>-122.299</td>\n      <td>1020</td>\n      <td>2007</td>\n      <td>-122.299</td>\n    </tr>\n    <tr>\n      <th>291310100</th>\n      <th>20150116T000000</th>\n      <th>400000.0</th>\n      <th>3</th>\n      <th>2.50</th>\n      <th>1600</th>\n      <th>2388</th>\n      <th>2.0</th>\n      <th>0</th>\n      <th>0</th>\n      <th>3</th>\n      <th>8</th>\n      <th>1600</th>\n      <th>0</th>\n      <th>2004</th>\n      <th>0</th>\n      <td>98027</td>\n      <td>47.5345</td>\n      <td>-122.069</td>\n      <td>1410</td>\n      <td>1287</td>\n      <td>-122.069</td>\n    </tr>\n    <tr>\n      <th>1523300157</th>\n      <th>20141015T000000</th>\n      <th>325000.0</th>\n      <th>2</th>\n      <th>0.75</th>\n      <th>1020</th>\n      <th>1076</th>\n      <th>2.0</th>\n      <th>0</th>\n      <th>0</th>\n      <th>3</th>\n      <th>7</th>\n      <th>1020</th>\n      <th>0</th>\n      <th>2008</th>\n      <th>0</th>\n      <td>98144</td>\n      <td>47.5941</td>\n      <td>-122.299</td>\n      <td>1020</td>\n      <td>1357</td>\n      <td>-122.299</td>\n    </tr>\n  </tbody>\n</table>\n<p>3596 rows × 6 columns</p>\n</div>"
          },
          "metadata": {}
        }
      ]
    },
    {
      "cell_type": "code",
      "source": "df2 = df.set_index('id')",
      "metadata": {
        "trusted": true
      },
      "execution_count": 20,
      "outputs": []
    },
    {
      "cell_type": "code",
      "source": "",
      "metadata": {},
      "execution_count": null,
      "outputs": []
    },
    {
      "cell_type": "code",
      "source": "df2",
      "metadata": {
        "trusted": true
      },
      "execution_count": 21,
      "outputs": [
        {
          "execution_count": 21,
          "output_type": "execute_result",
          "data": {
            "text/plain": "                                                    price  bedrooms  \\\nid                                                                    \n7129300520,\"20141013T000000\",221900,3,1,1180,56...    NaN       NaN   \n6414100192,\"20141209T000000\",538000,3,2.25,2570...    NaN       NaN   \n5631500400,\"20150225T000000\",180000,2,1,770,100...    NaN       NaN   \n2487200875,\"20141209T000000\",604000,4,3,1960,50...    NaN       NaN   \n1954400510,\"20150218T000000\",510000,3,2,1680,80...    NaN       NaN   \n...                                                   ...       ...   \n0263000018,\"20140521T000000\",360000,3,2.5,1530,...    NaN       NaN   \n6600060120,\"20150223T000000\",400000,4,2.5,2310,...    NaN       NaN   \n1523300141,\"20140623T000000\",402101,2,0.75,1020...    NaN       NaN   \n0291310100,\"20150116T000000\",400000,3,2.5,1600,...    NaN       NaN   \n1523300157,\"20141015T000000\",325000,2,0.75,1020...    NaN       NaN   \n\n                                                    bathrooms  sqft_living  \\\nid                                                                           \n7129300520,\"20141013T000000\",221900,3,1,1180,56...        NaN          NaN   \n6414100192,\"20141209T000000\",538000,3,2.25,2570...        NaN          NaN   \n5631500400,\"20150225T000000\",180000,2,1,770,100...        NaN          NaN   \n2487200875,\"20141209T000000\",604000,4,3,1960,50...        NaN          NaN   \n1954400510,\"20150218T000000\",510000,3,2,1680,80...        NaN          NaN   \n...                                                       ...          ...   \n0263000018,\"20140521T000000\",360000,3,2.5,1530,...        NaN          NaN   \n6600060120,\"20150223T000000\",400000,4,2.5,2310,...        NaN          NaN   \n1523300141,\"20140623T000000\",402101,2,0.75,1020...        NaN          NaN   \n0291310100,\"20150116T000000\",400000,3,2.5,1600,...        NaN          NaN   \n1523300157,\"20141015T000000\",325000,2,0.75,1020...        NaN          NaN   \n\n                                                    sqft_lot  floors  \\\nid                                                                     \n7129300520,\"20141013T000000\",221900,3,1,1180,56...       NaN     NaN   \n6414100192,\"20141209T000000\",538000,3,2.25,2570...       NaN     NaN   \n5631500400,\"20150225T000000\",180000,2,1,770,100...       NaN     NaN   \n2487200875,\"20141209T000000\",604000,4,3,1960,50...       NaN     NaN   \n1954400510,\"20150218T000000\",510000,3,2,1680,80...       NaN     NaN   \n...                                                      ...     ...   \n0263000018,\"20140521T000000\",360000,3,2.5,1530,...       NaN     NaN   \n6600060120,\"20150223T000000\",400000,4,2.5,2310,...       NaN     NaN   \n1523300141,\"20140623T000000\",402101,2,0.75,1020...       NaN     NaN   \n0291310100,\"20150116T000000\",400000,3,2.5,1600,...       NaN     NaN   \n1523300157,\"20141015T000000\",325000,2,0.75,1020...       NaN     NaN   \n\n                                                    waterfront  view  \\\nid                                                                     \n7129300520,\"20141013T000000\",221900,3,1,1180,56...         NaN   NaN   \n6414100192,\"20141209T000000\",538000,3,2.25,2570...         NaN   NaN   \n5631500400,\"20150225T000000\",180000,2,1,770,100...         NaN   NaN   \n2487200875,\"20141209T000000\",604000,4,3,1960,50...         NaN   NaN   \n1954400510,\"20150218T000000\",510000,3,2,1680,80...         NaN   NaN   \n...                                                        ...   ...   \n0263000018,\"20140521T000000\",360000,3,2.5,1530,...         NaN   NaN   \n6600060120,\"20150223T000000\",400000,4,2.5,2310,...         NaN   NaN   \n1523300141,\"20140623T000000\",402101,2,0.75,1020...         NaN   NaN   \n0291310100,\"20150116T000000\",400000,3,2.5,1600,...         NaN   NaN   \n1523300157,\"20141015T000000\",325000,2,0.75,1020...         NaN   NaN   \n\n                                                    condition  grade  \\\nid                                                                     \n7129300520,\"20141013T000000\",221900,3,1,1180,56...        NaN    NaN   \n6414100192,\"20141209T000000\",538000,3,2.25,2570...        NaN    NaN   \n5631500400,\"20150225T000000\",180000,2,1,770,100...        NaN    NaN   \n2487200875,\"20141209T000000\",604000,4,3,1960,50...        NaN    NaN   \n1954400510,\"20150218T000000\",510000,3,2,1680,80...        NaN    NaN   \n...                                                       ...    ...   \n0263000018,\"20140521T000000\",360000,3,2.5,1530,...        NaN    NaN   \n6600060120,\"20150223T000000\",400000,4,2.5,2310,...        NaN    NaN   \n1523300141,\"20140623T000000\",402101,2,0.75,1020...        NaN    NaN   \n0291310100,\"20150116T000000\",400000,3,2.5,1600,...        NaN    NaN   \n1523300157,\"20141015T000000\",325000,2,0.75,1020...        NaN    NaN   \n\n                                                    sqft_above  sqft_basement  \\\nid                                                                              \n7129300520,\"20141013T000000\",221900,3,1,1180,56...         NaN            NaN   \n6414100192,\"20141209T000000\",538000,3,2.25,2570...         NaN            NaN   \n5631500400,\"20150225T000000\",180000,2,1,770,100...         NaN            NaN   \n2487200875,\"20141209T000000\",604000,4,3,1960,50...         NaN            NaN   \n1954400510,\"20150218T000000\",510000,3,2,1680,80...         NaN            NaN   \n...                                                        ...            ...   \n0263000018,\"20140521T000000\",360000,3,2.5,1530,...         NaN            NaN   \n6600060120,\"20150223T000000\",400000,4,2.5,2310,...         NaN            NaN   \n1523300141,\"20140623T000000\",402101,2,0.75,1020...         NaN            NaN   \n0291310100,\"20150116T000000\",400000,3,2.5,1600,...         NaN            NaN   \n1523300157,\"20141015T000000\",325000,2,0.75,1020...         NaN            NaN   \n\n                                                    yr_built  yr_renovated  \\\nid                                                                           \n7129300520,\"20141013T000000\",221900,3,1,1180,56...       NaN           NaN   \n6414100192,\"20141209T000000\",538000,3,2.25,2570...       NaN           NaN   \n5631500400,\"20150225T000000\",180000,2,1,770,100...       NaN           NaN   \n2487200875,\"20141209T000000\",604000,4,3,1960,50...       NaN           NaN   \n1954400510,\"20150218T000000\",510000,3,2,1680,80...       NaN           NaN   \n...                                                      ...           ...   \n0263000018,\"20140521T000000\",360000,3,2.5,1530,...       NaN           NaN   \n6600060120,\"20150223T000000\",400000,4,2.5,2310,...       NaN           NaN   \n1523300141,\"20140623T000000\",402101,2,0.75,1020...       NaN           NaN   \n0291310100,\"20150116T000000\",400000,3,2.5,1600,...       NaN           NaN   \n1523300157,\"20141015T000000\",325000,2,0.75,1020...       NaN           NaN   \n\n                                                    sqft_living15  sqft_lot15  \\\nid                                                                              \n7129300520,\"20141013T000000\",221900,3,1,1180,56...            NaN         NaN   \n6414100192,\"20141209T000000\",538000,3,2.25,2570...            NaN         NaN   \n5631500400,\"20150225T000000\",180000,2,1,770,100...            NaN         NaN   \n2487200875,\"20141209T000000\",604000,4,3,1960,50...            NaN         NaN   \n1954400510,\"20150218T000000\",510000,3,2,1680,80...            NaN         NaN   \n...                                                           ...         ...   \n0263000018,\"20140521T000000\",360000,3,2.5,1530,...            NaN         NaN   \n6600060120,\"20150223T000000\",400000,4,2.5,2310,...            NaN         NaN   \n1523300141,\"20140623T000000\",402101,2,0.75,1020...            NaN         NaN   \n0291310100,\"20150116T000000\",400000,3,2.5,1600,...            NaN         NaN   \n1523300157,\"20141015T000000\",325000,2,0.75,1020...            NaN         NaN   \n\n                                                    delta_renovated  \nid                                                                   \n7129300520,\"20141013T000000\",221900,3,1,1180,56...              NaN  \n6414100192,\"20141209T000000\",538000,3,2.25,2570...              NaN  \n5631500400,\"20150225T000000\",180000,2,1,770,100...              NaN  \n2487200875,\"20141209T000000\",604000,4,3,1960,50...              NaN  \n1954400510,\"20150218T000000\",510000,3,2,1680,80...              NaN  \n...                                                             ...  \n0263000018,\"20140521T000000\",360000,3,2.5,1530,...              NaN  \n6600060120,\"20150223T000000\",400000,4,2.5,2310,...              NaN  \n1523300141,\"20140623T000000\",402101,2,0.75,1020...              NaN  \n0291310100,\"20150116T000000\",400000,3,2.5,1600,...              NaN  \n1523300157,\"20141015T000000\",325000,2,0.75,1020...              NaN  \n\n[21613 rows x 17 columns]",
            "text/html": "<div>\n<style scoped>\n    .dataframe tbody tr th:only-of-type {\n        vertical-align: middle;\n    }\n\n    .dataframe tbody tr th {\n        vertical-align: top;\n    }\n\n    .dataframe thead th {\n        text-align: right;\n    }\n</style>\n<table border=\"1\" class=\"dataframe\">\n  <thead>\n    <tr style=\"text-align: right;\">\n      <th></th>\n      <th>price</th>\n      <th>bedrooms</th>\n      <th>bathrooms</th>\n      <th>sqft_living</th>\n      <th>sqft_lot</th>\n      <th>floors</th>\n      <th>waterfront</th>\n      <th>view</th>\n      <th>condition</th>\n      <th>grade</th>\n      <th>sqft_above</th>\n      <th>sqft_basement</th>\n      <th>yr_built</th>\n      <th>yr_renovated</th>\n      <th>sqft_living15</th>\n      <th>sqft_lot15</th>\n      <th>delta_renovated</th>\n    </tr>\n    <tr>\n      <th>id</th>\n      <th></th>\n      <th></th>\n      <th></th>\n      <th></th>\n      <th></th>\n      <th></th>\n      <th></th>\n      <th></th>\n      <th></th>\n      <th></th>\n      <th></th>\n      <th></th>\n      <th></th>\n      <th></th>\n      <th></th>\n      <th></th>\n      <th></th>\n    </tr>\n  </thead>\n  <tbody>\n    <tr>\n      <th>7129300520,\"20141013T000000\",221900,3,1,1180,5650,\"1\",0,0,3,7,1180,0,1955,0,\"98178\",47.5112,-122.257,1340,5650</th>\n      <td>NaN</td>\n      <td>NaN</td>\n      <td>NaN</td>\n      <td>NaN</td>\n      <td>NaN</td>\n      <td>NaN</td>\n      <td>NaN</td>\n      <td>NaN</td>\n      <td>NaN</td>\n      <td>NaN</td>\n      <td>NaN</td>\n      <td>NaN</td>\n      <td>NaN</td>\n      <td>NaN</td>\n      <td>NaN</td>\n      <td>NaN</td>\n      <td>NaN</td>\n    </tr>\n    <tr>\n      <th>6414100192,\"20141209T000000\",538000,3,2.25,2570,7242,\"2\",0,0,3,7,2170,400,1951,1991,\"98125\",47.721,-122.319,1690,7639</th>\n      <td>NaN</td>\n      <td>NaN</td>\n      <td>NaN</td>\n      <td>NaN</td>\n      <td>NaN</td>\n      <td>NaN</td>\n      <td>NaN</td>\n      <td>NaN</td>\n      <td>NaN</td>\n      <td>NaN</td>\n      <td>NaN</td>\n      <td>NaN</td>\n      <td>NaN</td>\n      <td>NaN</td>\n      <td>NaN</td>\n      <td>NaN</td>\n      <td>NaN</td>\n    </tr>\n    <tr>\n      <th>5631500400,\"20150225T000000\",180000,2,1,770,10000,\"1\",0,0,3,6,770,0,1933,0,\"98028\",47.7379,-122.233,2720,8062</th>\n      <td>NaN</td>\n      <td>NaN</td>\n      <td>NaN</td>\n      <td>NaN</td>\n      <td>NaN</td>\n      <td>NaN</td>\n      <td>NaN</td>\n      <td>NaN</td>\n      <td>NaN</td>\n      <td>NaN</td>\n      <td>NaN</td>\n      <td>NaN</td>\n      <td>NaN</td>\n      <td>NaN</td>\n      <td>NaN</td>\n      <td>NaN</td>\n      <td>NaN</td>\n    </tr>\n    <tr>\n      <th>2487200875,\"20141209T000000\",604000,4,3,1960,5000,\"1\",0,0,5,7,1050,910,1965,0,\"98136\",47.5208,-122.393,1360,5000</th>\n      <td>NaN</td>\n      <td>NaN</td>\n      <td>NaN</td>\n      <td>NaN</td>\n      <td>NaN</td>\n      <td>NaN</td>\n      <td>NaN</td>\n      <td>NaN</td>\n      <td>NaN</td>\n      <td>NaN</td>\n      <td>NaN</td>\n      <td>NaN</td>\n      <td>NaN</td>\n      <td>NaN</td>\n      <td>NaN</td>\n      <td>NaN</td>\n      <td>NaN</td>\n    </tr>\n    <tr>\n      <th>1954400510,\"20150218T000000\",510000,3,2,1680,8080,\"1\",0,0,3,8,1680,0,1987,0,\"98074\",47.6168,-122.045,1800,7503</th>\n      <td>NaN</td>\n      <td>NaN</td>\n      <td>NaN</td>\n      <td>NaN</td>\n      <td>NaN</td>\n      <td>NaN</td>\n      <td>NaN</td>\n      <td>NaN</td>\n      <td>NaN</td>\n      <td>NaN</td>\n      <td>NaN</td>\n      <td>NaN</td>\n      <td>NaN</td>\n      <td>NaN</td>\n      <td>NaN</td>\n      <td>NaN</td>\n      <td>NaN</td>\n    </tr>\n    <tr>\n      <th>...</th>\n      <td>...</td>\n      <td>...</td>\n      <td>...</td>\n      <td>...</td>\n      <td>...</td>\n      <td>...</td>\n      <td>...</td>\n      <td>...</td>\n      <td>...</td>\n      <td>...</td>\n      <td>...</td>\n      <td>...</td>\n      <td>...</td>\n      <td>...</td>\n      <td>...</td>\n      <td>...</td>\n      <td>...</td>\n    </tr>\n    <tr>\n      <th>0263000018,\"20140521T000000\",360000,3,2.5,1530,1131,\"3\",0,0,3,8,1530,0,2009,0,\"98103\",47.6993,-122.346,1530,1509</th>\n      <td>NaN</td>\n      <td>NaN</td>\n      <td>NaN</td>\n      <td>NaN</td>\n      <td>NaN</td>\n      <td>NaN</td>\n      <td>NaN</td>\n      <td>NaN</td>\n      <td>NaN</td>\n      <td>NaN</td>\n      <td>NaN</td>\n      <td>NaN</td>\n      <td>NaN</td>\n      <td>NaN</td>\n      <td>NaN</td>\n      <td>NaN</td>\n      <td>NaN</td>\n    </tr>\n    <tr>\n      <th>6600060120,\"20150223T000000\",400000,4,2.5,2310,5813,\"2\",0,0,3,8,2310,0,2014,0,\"98146\",47.5107,-122.362,1830,7200</th>\n      <td>NaN</td>\n      <td>NaN</td>\n      <td>NaN</td>\n      <td>NaN</td>\n      <td>NaN</td>\n      <td>NaN</td>\n      <td>NaN</td>\n      <td>NaN</td>\n      <td>NaN</td>\n      <td>NaN</td>\n      <td>NaN</td>\n      <td>NaN</td>\n      <td>NaN</td>\n      <td>NaN</td>\n      <td>NaN</td>\n      <td>NaN</td>\n      <td>NaN</td>\n    </tr>\n    <tr>\n      <th>1523300141,\"20140623T000000\",402101,2,0.75,1020,1350,\"2\",0,0,3,7,1020,0,2009,0,\"98144\",47.5944,-122.299,1020,2007</th>\n      <td>NaN</td>\n      <td>NaN</td>\n      <td>NaN</td>\n      <td>NaN</td>\n      <td>NaN</td>\n      <td>NaN</td>\n      <td>NaN</td>\n      <td>NaN</td>\n      <td>NaN</td>\n      <td>NaN</td>\n      <td>NaN</td>\n      <td>NaN</td>\n      <td>NaN</td>\n      <td>NaN</td>\n      <td>NaN</td>\n      <td>NaN</td>\n      <td>NaN</td>\n    </tr>\n    <tr>\n      <th>0291310100,\"20150116T000000\",400000,3,2.5,1600,2388,\"2\",0,0,3,8,1600,0,2004,0,\"98027\",47.5345,-122.069,1410,1287</th>\n      <td>NaN</td>\n      <td>NaN</td>\n      <td>NaN</td>\n      <td>NaN</td>\n      <td>NaN</td>\n      <td>NaN</td>\n      <td>NaN</td>\n      <td>NaN</td>\n      <td>NaN</td>\n      <td>NaN</td>\n      <td>NaN</td>\n      <td>NaN</td>\n      <td>NaN</td>\n      <td>NaN</td>\n      <td>NaN</td>\n      <td>NaN</td>\n      <td>NaN</td>\n    </tr>\n    <tr>\n      <th>1523300157,\"20141015T000000\",325000,2,0.75,1020,1076,\"2\",0,0,3,7,1020,0,2008,0,\"98144\",47.5941,-122.299,1020,1357</th>\n      <td>NaN</td>\n      <td>NaN</td>\n      <td>NaN</td>\n      <td>NaN</td>\n      <td>NaN</td>\n      <td>NaN</td>\n      <td>NaN</td>\n      <td>NaN</td>\n      <td>NaN</td>\n      <td>NaN</td>\n      <td>NaN</td>\n      <td>NaN</td>\n      <td>NaN</td>\n      <td>NaN</td>\n      <td>NaN</td>\n      <td>NaN</td>\n      <td>NaN</td>\n    </tr>\n  </tbody>\n</table>\n<p>21613 rows × 17 columns</p>\n</div>"
          },
          "metadata": {}
        }
      ]
    },
    {
      "cell_type": "code",
      "source": "joined = clients2.join(df2)\njoined.head()",
      "metadata": {
        "trusted": true
      },
      "execution_count": 28,
      "outputs": [
        {
          "execution_count": 28,
          "output_type": "execute_result",
          "data": {
            "text/plain": "            client_id  47.3817  -122.206  2670  6259  delta_renovated\n339600110        4809      NaN       NaN   NaN   NaN              NaN\n809001400        3113      NaN       NaN   NaN   NaN              NaN\n825069097        1764      NaN       NaN   NaN   NaN              NaN\n1099600250       2242      NaN       NaN   NaN   NaN              NaN\n1189000207       2308      NaN       NaN   NaN   NaN              NaN",
            "text/html": "<div>\n<style scoped>\n    .dataframe tbody tr th:only-of-type {\n        vertical-align: middle;\n    }\n\n    .dataframe tbody tr th {\n        vertical-align: top;\n    }\n\n    .dataframe thead th {\n        text-align: right;\n    }\n</style>\n<table border=\"1\" class=\"dataframe\">\n  <thead>\n    <tr style=\"text-align: right;\">\n      <th></th>\n      <th>client_id</th>\n      <th>47.3817</th>\n      <th>-122.206</th>\n      <th>2670</th>\n      <th>6259</th>\n      <th>delta_renovated</th>\n    </tr>\n  </thead>\n  <tbody>\n    <tr>\n      <th>339600110</th>\n      <td>4809</td>\n      <td>NaN</td>\n      <td>NaN</td>\n      <td>NaN</td>\n      <td>NaN</td>\n      <td>NaN</td>\n    </tr>\n    <tr>\n      <th>809001400</th>\n      <td>3113</td>\n      <td>NaN</td>\n      <td>NaN</td>\n      <td>NaN</td>\n      <td>NaN</td>\n      <td>NaN</td>\n    </tr>\n    <tr>\n      <th>825069097</th>\n      <td>1764</td>\n      <td>NaN</td>\n      <td>NaN</td>\n      <td>NaN</td>\n      <td>NaN</td>\n      <td>NaN</td>\n    </tr>\n    <tr>\n      <th>1099600250</th>\n      <td>2242</td>\n      <td>NaN</td>\n      <td>NaN</td>\n      <td>NaN</td>\n      <td>NaN</td>\n      <td>NaN</td>\n    </tr>\n    <tr>\n      <th>1189000207</th>\n      <td>2308</td>\n      <td>NaN</td>\n      <td>NaN</td>\n      <td>NaN</td>\n      <td>NaN</td>\n      <td>NaN</td>\n    </tr>\n  </tbody>\n</table>\n</div>"
          },
          "metadata": {}
        }
      ]
    },
    {
      "cell_type": "code",
      "source": "merged = clients2.merge(df, left_on='client_id', right_on='id')\nmerged",
      "metadata": {
        "trusted": true
      },
      "execution_count": 22,
      "outputs": [
        {
          "ename": "<class 'NameError'>",
          "evalue": "name 'clients2' is not defined",
          "traceback": [
            "\u001b[0;31m---------------------------------------------------------------------------\u001b[0m",
            "\u001b[0;31mNameError\u001b[0m                                 Traceback (most recent call last)",
            "Cell \u001b[0;32mIn[22], line 1\u001b[0m\n\u001b[0;32m----> 1\u001b[0m merged \u001b[38;5;241m=\u001b[39m \u001b[43mclients2\u001b[49m\u001b[38;5;241m.\u001b[39mmerge(df, left_on\u001b[38;5;241m=\u001b[39m\u001b[38;5;124m'\u001b[39m\u001b[38;5;124mclient_id\u001b[39m\u001b[38;5;124m'\u001b[39m, right_on\u001b[38;5;241m=\u001b[39m\u001b[38;5;124m'\u001b[39m\u001b[38;5;124mid\u001b[39m\u001b[38;5;124m'\u001b[39m)\n\u001b[1;32m      2\u001b[0m merged\n",
            "\u001b[0;31mNameError\u001b[0m: name 'clients2' is not defined"
          ],
          "output_type": "error"
        }
      ]
    },
    {
      "cell_type": "code",
      "source": "",
      "metadata": {},
      "execution_count": null,
      "outputs": []
    },
    {
      "cell_type": "markdown",
      "source": "3.1 Найдите среднюю стоимость домов в зависимости от количества спален",
      "metadata": {}
    },
    {
      "cell_type": "code",
      "source": "\ndf.groupby('price').agg({'bedrooms': 'mean'})",
      "metadata": {
        "trusted": true
      },
      "execution_count": 27,
      "outputs": [
        {
          "execution_count": 27,
          "output_type": "execute_result",
          "data": {
            "text/plain": "Empty DataFrame\nColumns: [bedrooms]\nIndex: []",
            "text/html": "<div>\n<style scoped>\n    .dataframe tbody tr th:only-of-type {\n        vertical-align: middle;\n    }\n\n    .dataframe tbody tr th {\n        vertical-align: top;\n    }\n\n    .dataframe thead th {\n        text-align: right;\n    }\n</style>\n<table border=\"1\" class=\"dataframe\">\n  <thead>\n    <tr style=\"text-align: right;\">\n      <th></th>\n      <th>bedrooms</th>\n    </tr>\n    <tr>\n      <th>price</th>\n      <th></th>\n    </tr>\n  </thead>\n  <tbody>\n  </tbody>\n</table>\n</div>"
          },
          "metadata": {}
        }
      ]
    },
    {
      "cell_type": "code",
      "source": "df.groupby('Company').agg({'Price_euros': [ 'min','mean','max']})",
      "metadata": {},
      "execution_count": null,
      "outputs": []
    },
    {
      "cell_type": "markdown",
      "source": "3.2 Найдите минимальную, среднюю и максимальную стоимости домов в зависимости от состояния дома",
      "metadata": {}
    },
    {
      "cell_type": "code",
      "source": "df.groupby('price').agg({'grade': [ 'min','mean','max']})",
      "metadata": {
        "trusted": true
      },
      "execution_count": 28,
      "outputs": [
        {
          "execution_count": 28,
          "output_type": "execute_result",
          "data": {
            "text/plain": "Empty DataFrame\nColumns: [(grade, min), (grade, mean), (grade, max)]\nIndex: []",
            "text/html": "<div>\n<style scoped>\n    .dataframe tbody tr th:only-of-type {\n        vertical-align: middle;\n    }\n\n    .dataframe tbody tr th {\n        vertical-align: top;\n    }\n\n    .dataframe thead tr th {\n        text-align: left;\n    }\n\n    .dataframe thead tr:last-of-type th {\n        text-align: right;\n    }\n</style>\n<table border=\"1\" class=\"dataframe\">\n  <thead>\n    <tr>\n      <th></th>\n      <th colspan=\"3\" halign=\"left\">grade</th>\n    </tr>\n    <tr>\n      <th></th>\n      <th>min</th>\n      <th>mean</th>\n      <th>max</th>\n    </tr>\n    <tr>\n      <th>price</th>\n      <th></th>\n      <th></th>\n      <th></th>\n    </tr>\n  </thead>\n  <tbody>\n  </tbody>\n</table>\n</div>"
          },
          "metadata": {}
        }
      ]
    },
    {
      "cell_type": "markdown",
      "source": "3.3 Постройте таблицу с подсчетом количества домов в данных в зависимости от вида на набережную и оценкой вида",
      "metadata": {}
    },
    {
      "cell_type": "code",
      "source": "df = pd.read_csv('kc_house_data.csv', sep = ',', encoding= 'latin-1')\ndf.head()",
      "metadata": {
        "trusted": true
      },
      "execution_count": 29,
      "outputs": [
        {
          "execution_count": 29,
          "output_type": "execute_result",
          "data": {
            "text/plain": "                                                  id  date  price  bedrooms  \\\n0  7129300520,\"20141013T000000\",221900,3,1,1180,5...   NaN    NaN       NaN   \n1  6414100192,\"20141209T000000\",538000,3,2.25,257...   NaN    NaN       NaN   \n2  5631500400,\"20150225T000000\",180000,2,1,770,10...   NaN    NaN       NaN   \n3  2487200875,\"20141209T000000\",604000,4,3,1960,5...   NaN    NaN       NaN   \n4  1954400510,\"20150218T000000\",510000,3,2,1680,8...   NaN    NaN       NaN   \n\n   bathrooms  sqft_living  sqft_lot  floors  waterfront  view  ...  grade  \\\n0        NaN          NaN       NaN     NaN         NaN   NaN  ...    NaN   \n1        NaN          NaN       NaN     NaN         NaN   NaN  ...    NaN   \n2        NaN          NaN       NaN     NaN         NaN   NaN  ...    NaN   \n3        NaN          NaN       NaN     NaN         NaN   NaN  ...    NaN   \n4        NaN          NaN       NaN     NaN         NaN   NaN  ...    NaN   \n\n   sqft_above  sqft_basement  yr_built  yr_renovated  zipcode  lat  long  \\\n0         NaN            NaN       NaN           NaN      NaN  NaN   NaN   \n1         NaN            NaN       NaN           NaN      NaN  NaN   NaN   \n2         NaN            NaN       NaN           NaN      NaN  NaN   NaN   \n3         NaN            NaN       NaN           NaN      NaN  NaN   NaN   \n4         NaN            NaN       NaN           NaN      NaN  NaN   NaN   \n\n   sqft_living15  sqft_lot15  \n0            NaN         NaN  \n1            NaN         NaN  \n2            NaN         NaN  \n3            NaN         NaN  \n4            NaN         NaN  \n\n[5 rows x 21 columns]",
            "text/html": "<div>\n<style scoped>\n    .dataframe tbody tr th:only-of-type {\n        vertical-align: middle;\n    }\n\n    .dataframe tbody tr th {\n        vertical-align: top;\n    }\n\n    .dataframe thead th {\n        text-align: right;\n    }\n</style>\n<table border=\"1\" class=\"dataframe\">\n  <thead>\n    <tr style=\"text-align: right;\">\n      <th></th>\n      <th>id</th>\n      <th>date</th>\n      <th>price</th>\n      <th>bedrooms</th>\n      <th>bathrooms</th>\n      <th>sqft_living</th>\n      <th>sqft_lot</th>\n      <th>floors</th>\n      <th>waterfront</th>\n      <th>view</th>\n      <th>...</th>\n      <th>grade</th>\n      <th>sqft_above</th>\n      <th>sqft_basement</th>\n      <th>yr_built</th>\n      <th>yr_renovated</th>\n      <th>zipcode</th>\n      <th>lat</th>\n      <th>long</th>\n      <th>sqft_living15</th>\n      <th>sqft_lot15</th>\n    </tr>\n  </thead>\n  <tbody>\n    <tr>\n      <th>0</th>\n      <td>7129300520,\"20141013T000000\",221900,3,1,1180,5...</td>\n      <td>NaN</td>\n      <td>NaN</td>\n      <td>NaN</td>\n      <td>NaN</td>\n      <td>NaN</td>\n      <td>NaN</td>\n      <td>NaN</td>\n      <td>NaN</td>\n      <td>NaN</td>\n      <td>...</td>\n      <td>NaN</td>\n      <td>NaN</td>\n      <td>NaN</td>\n      <td>NaN</td>\n      <td>NaN</td>\n      <td>NaN</td>\n      <td>NaN</td>\n      <td>NaN</td>\n      <td>NaN</td>\n      <td>NaN</td>\n    </tr>\n    <tr>\n      <th>1</th>\n      <td>6414100192,\"20141209T000000\",538000,3,2.25,257...</td>\n      <td>NaN</td>\n      <td>NaN</td>\n      <td>NaN</td>\n      <td>NaN</td>\n      <td>NaN</td>\n      <td>NaN</td>\n      <td>NaN</td>\n      <td>NaN</td>\n      <td>NaN</td>\n      <td>...</td>\n      <td>NaN</td>\n      <td>NaN</td>\n      <td>NaN</td>\n      <td>NaN</td>\n      <td>NaN</td>\n      <td>NaN</td>\n      <td>NaN</td>\n      <td>NaN</td>\n      <td>NaN</td>\n      <td>NaN</td>\n    </tr>\n    <tr>\n      <th>2</th>\n      <td>5631500400,\"20150225T000000\",180000,2,1,770,10...</td>\n      <td>NaN</td>\n      <td>NaN</td>\n      <td>NaN</td>\n      <td>NaN</td>\n      <td>NaN</td>\n      <td>NaN</td>\n      <td>NaN</td>\n      <td>NaN</td>\n      <td>NaN</td>\n      <td>...</td>\n      <td>NaN</td>\n      <td>NaN</td>\n      <td>NaN</td>\n      <td>NaN</td>\n      <td>NaN</td>\n      <td>NaN</td>\n      <td>NaN</td>\n      <td>NaN</td>\n      <td>NaN</td>\n      <td>NaN</td>\n    </tr>\n    <tr>\n      <th>3</th>\n      <td>2487200875,\"20141209T000000\",604000,4,3,1960,5...</td>\n      <td>NaN</td>\n      <td>NaN</td>\n      <td>NaN</td>\n      <td>NaN</td>\n      <td>NaN</td>\n      <td>NaN</td>\n      <td>NaN</td>\n      <td>NaN</td>\n      <td>NaN</td>\n      <td>...</td>\n      <td>NaN</td>\n      <td>NaN</td>\n      <td>NaN</td>\n      <td>NaN</td>\n      <td>NaN</td>\n      <td>NaN</td>\n      <td>NaN</td>\n      <td>NaN</td>\n      <td>NaN</td>\n      <td>NaN</td>\n    </tr>\n    <tr>\n      <th>4</th>\n      <td>1954400510,\"20150218T000000\",510000,3,2,1680,8...</td>\n      <td>NaN</td>\n      <td>NaN</td>\n      <td>NaN</td>\n      <td>NaN</td>\n      <td>NaN</td>\n      <td>NaN</td>\n      <td>NaN</td>\n      <td>NaN</td>\n      <td>NaN</td>\n      <td>...</td>\n      <td>NaN</td>\n      <td>NaN</td>\n      <td>NaN</td>\n      <td>NaN</td>\n      <td>NaN</td>\n      <td>NaN</td>\n      <td>NaN</td>\n      <td>NaN</td>\n      <td>NaN</td>\n      <td>NaN</td>\n    </tr>\n  </tbody>\n</table>\n<p>5 rows × 21 columns</p>\n</div>"
          },
          "metadata": {}
        }
      ]
    },
    {
      "cell_type": "code",
      "source": "df.info()",
      "metadata": {
        "trusted": true
      },
      "execution_count": 30,
      "outputs": [
        {
          "name": "stdout",
          "text": "<class 'pandas.core.frame.DataFrame'>\nRangeIndex: 21613 entries, 0 to 21612\nData columns (total 21 columns):\n #   Column         Non-Null Count  Dtype  \n---  ------         --------------  -----  \n 0   id             21613 non-null  object \n 1   date           0 non-null      float64\n 2   price          0 non-null      float64\n 3   bedrooms       0 non-null      float64\n 4   bathrooms      0 non-null      float64\n 5   sqft_living    0 non-null      float64\n 6   sqft_lot       0 non-null      float64\n 7   floors         0 non-null      float64\n 8   waterfront     0 non-null      float64\n 9   view           0 non-null      float64\n 10  condition      0 non-null      float64\n 11  grade          0 non-null      float64\n 12  sqft_above     0 non-null      float64\n 13  sqft_basement  0 non-null      float64\n 14  yr_built       0 non-null      float64\n 15  yr_renovated   0 non-null      float64\n 16  zipcode        0 non-null      float64\n 17  lat            0 non-null      float64\n 18  long           0 non-null      float64\n 19  sqft_living15  0 non-null      float64\n 20  sqft_lot15     0 non-null      float64\ndtypes: float64(20), object(1)\nmemory usage: 3.4+ MB\n",
          "output_type": "stream"
        }
      ]
    },
    {
      "cell_type": "code",
      "source": "",
      "metadata": {},
      "execution_count": null,
      "outputs": []
    },
    {
      "cell_type": "code",
      "source": "df.pivot_table(index= 'id', columns= 'waterfront',\n              values= 'view', aggfunc= 'count', \n              fill_value=0\n              )",
      "metadata": {
        "trusted": true
      },
      "execution_count": 33,
      "outputs": [
        {
          "execution_count": 33,
          "output_type": "execute_result",
          "data": {
            "text/plain": "Empty DataFrame\nColumns: []\nIndex: []",
            "text/html": "<div>\n<style scoped>\n    .dataframe tbody tr th:only-of-type {\n        vertical-align: middle;\n    }\n\n    .dataframe tbody tr th {\n        vertical-align: top;\n    }\n\n    .dataframe thead th {\n        text-align: right;\n    }\n</style>\n<table border=\"1\" class=\"dataframe\">\n  <thead>\n    <tr style=\"text-align: right;\">\n      <th>waterfront</th>\n    </tr>\n    <tr>\n      <th>id</th>\n    </tr>\n  </thead>\n  <tbody>\n  </tbody>\n</table>\n</div>"
          },
          "metadata": {}
        }
      ]
    },
    {
      "cell_type": "markdown",
      "source": "3.4 Каких домов в зависимости от этажности и количества спален больше?",
      "metadata": {}
    },
    {
      "cell_type": "code",
      "source": "pd.crosstab(index=df['bedrooms'], columns=df['floors'])",
      "metadata": {
        "trusted": true
      },
      "execution_count": 35,
      "outputs": [
        {
          "execution_count": 35,
          "output_type": "execute_result",
          "data": {
            "text/plain": "Empty DataFrame\nColumns: []\nIndex: []",
            "text/html": "<div>\n<style scoped>\n    .dataframe tbody tr th:only-of-type {\n        vertical-align: middle;\n    }\n\n    .dataframe tbody tr th {\n        vertical-align: top;\n    }\n\n    .dataframe thead th {\n        text-align: right;\n    }\n</style>\n<table border=\"1\" class=\"dataframe\">\n  <thead>\n    <tr style=\"text-align: right;\">\n      <th>floors</th>\n    </tr>\n    <tr>\n      <th>bedrooms</th>\n    </tr>\n  </thead>\n  <tbody>\n  </tbody>\n</table>\n</div>"
          },
          "metadata": {}
        }
      ]
    },
    {
      "cell_type": "code",
      "source": "df.groupby('bedrooms').agg({'floors': [ 'min','mean','max']})",
      "metadata": {
        "trusted": true
      },
      "execution_count": 36,
      "outputs": [
        {
          "execution_count": 36,
          "output_type": "execute_result",
          "data": {
            "text/plain": "Empty DataFrame\nColumns: [(floors, min), (floors, mean), (floors, max)]\nIndex: []",
            "text/html": "<div>\n<style scoped>\n    .dataframe tbody tr th:only-of-type {\n        vertical-align: middle;\n    }\n\n    .dataframe tbody tr th {\n        vertical-align: top;\n    }\n\n    .dataframe thead tr th {\n        text-align: left;\n    }\n\n    .dataframe thead tr:last-of-type th {\n        text-align: right;\n    }\n</style>\n<table border=\"1\" class=\"dataframe\">\n  <thead>\n    <tr>\n      <th></th>\n      <th colspan=\"3\" halign=\"left\">floors</th>\n    </tr>\n    <tr>\n      <th></th>\n      <th>min</th>\n      <th>mean</th>\n      <th>max</th>\n    </tr>\n    <tr>\n      <th>bedrooms</th>\n      <th></th>\n      <th></th>\n      <th></th>\n    </tr>\n  </thead>\n  <tbody>\n  </tbody>\n</table>\n</div>"
          },
          "metadata": {}
        }
      ]
    },
    {
      "cell_type": "markdown",
      "source": "3.2 Найдите минимальную, среднюю и максимальную стоимости домов в зависимости от состояния дома",
      "metadata": {}
    },
    {
      "cell_type": "code",
      "source": "df.groupby('delta_renovated').agg({',0,0,3,7,3040,0,1999,0,98030\"': [ 'min','mean','max']})",
      "metadata": {
        "trusted": true
      },
      "execution_count": 36,
      "outputs": [
        {
          "execution_count": 36,
          "output_type": "execute_result",
          "data": {
            "text/plain": "                ,0,0,3,7,3040,0,1999,0,98030\"                \n                                          min     mean    max\ndelta_renovated                                              \n-122.491                                98070  98070.0  98070\n-122.486                                98070  98070.0  98070\n-122.465                                98070  98070.0  98070\n-122.464                                98070  98070.0  98070\n-122.456                                98070  98070.0  98070\n...                                       ...      ...    ...\n-121.725                                98045  98045.0  98045\n-121.723                                98045  98045.0  98045\n-121.405                                98014  98014.0  98014\n-121.403                                98014  98014.0  98014\n-121.364                                98014  98014.0  98014\n\n[547 rows x 3 columns]",
            "text/html": "<div>\n<style scoped>\n    .dataframe tbody tr th:only-of-type {\n        vertical-align: middle;\n    }\n\n    .dataframe tbody tr th {\n        vertical-align: top;\n    }\n\n    .dataframe thead tr th {\n        text-align: left;\n    }\n\n    .dataframe thead tr:last-of-type th {\n        text-align: right;\n    }\n</style>\n<table border=\"1\" class=\"dataframe\">\n  <thead>\n    <tr>\n      <th></th>\n      <th colspan=\"3\" halign=\"left\">,0,0,3,7,3040,0,1999,0,98030\"</th>\n    </tr>\n    <tr>\n      <th></th>\n      <th>min</th>\n      <th>mean</th>\n      <th>max</th>\n    </tr>\n    <tr>\n      <th>delta_renovated</th>\n      <th></th>\n      <th></th>\n      <th></th>\n    </tr>\n  </thead>\n  <tbody>\n    <tr>\n      <th>-122.491</th>\n      <td>98070</td>\n      <td>98070.0</td>\n      <td>98070</td>\n    </tr>\n    <tr>\n      <th>-122.486</th>\n      <td>98070</td>\n      <td>98070.0</td>\n      <td>98070</td>\n    </tr>\n    <tr>\n      <th>-122.465</th>\n      <td>98070</td>\n      <td>98070.0</td>\n      <td>98070</td>\n    </tr>\n    <tr>\n      <th>-122.464</th>\n      <td>98070</td>\n      <td>98070.0</td>\n      <td>98070</td>\n    </tr>\n    <tr>\n      <th>-122.456</th>\n      <td>98070</td>\n      <td>98070.0</td>\n      <td>98070</td>\n    </tr>\n    <tr>\n      <th>...</th>\n      <td>...</td>\n      <td>...</td>\n      <td>...</td>\n    </tr>\n    <tr>\n      <th>-121.725</th>\n      <td>98045</td>\n      <td>98045.0</td>\n      <td>98045</td>\n    </tr>\n    <tr>\n      <th>-121.723</th>\n      <td>98045</td>\n      <td>98045.0</td>\n      <td>98045</td>\n    </tr>\n    <tr>\n      <th>-121.405</th>\n      <td>98014</td>\n      <td>98014.0</td>\n      <td>98014</td>\n    </tr>\n    <tr>\n      <th>-121.403</th>\n      <td>98014</td>\n      <td>98014.0</td>\n      <td>98014</td>\n    </tr>\n    <tr>\n      <th>-121.364</th>\n      <td>98014</td>\n      <td>98014.0</td>\n      <td>98014</td>\n    </tr>\n  </tbody>\n</table>\n<p>547 rows × 3 columns</p>\n</div>"
          },
          "metadata": {}
        }
      ]
    },
    {
      "cell_type": "markdown",
      "source": "3.3 Постройте таблицу с подсчетом количества домов в данных в зависимости от вида на набережную и оценкой вида",
      "metadata": {}
    },
    {
      "cell_type": "code",
      "source": "df.info()",
      "metadata": {
        "trusted": true
      },
      "execution_count": 37,
      "outputs": [
        {
          "name": "stdout",
          "text": "<class 'pandas.core.frame.DataFrame'>\nMultiIndex: 3596 entries, (7663700610, '20150310T000000', 477500.0, 4, 1.75, 1860, 9364, 1.0, 0, 0, 3, 7, 1080, 780, 1953, 0) to (1523300157, '20141015T000000', 325000.0, 2, 0.75, 1020, 1076, 2.0, 0, 0, 3, 7, 1020, 0, 2008, 0)\nData columns (total 7 columns):\n #   Column                         Non-Null Count  Dtype  \n---  ------                         --------------  -----  \n 0   ,0,0,3,7,3040,0,1999,0,98030\"  3596 non-null   int64  \n 1   47.3817                        3596 non-null   float64\n 2   -122.206                       3596 non-null   float64\n 3   2670                           3596 non-null   int64  \n 4   6259                           3596 non-null   int64  \n 5   delta_renovated                3596 non-null   float64\n 6   beadroom                       3596 non-null   int64  \ndtypes: float64(3), int64(4)\nmemory usage: 561.9+ KB\n",
          "output_type": "stream"
        }
      ]
    },
    {
      "cell_type": "code",
      "source": "round(df.pivot_table(index='id', columns= 'waterfront',\n              values= 'floors', aggfunc= 'mean', \n              fill_value=0\n              ), 2)",
      "metadata": {
        "trusted": true
      },
      "execution_count": 37,
      "outputs": [
        {
          "execution_count": 37,
          "output_type": "execute_result",
          "data": {
            "text/plain": "Empty DataFrame\nColumns: []\nIndex: []",
            "text/html": "<div>\n<style scoped>\n    .dataframe tbody tr th:only-of-type {\n        vertical-align: middle;\n    }\n\n    .dataframe tbody tr th {\n        vertical-align: top;\n    }\n\n    .dataframe thead th {\n        text-align: right;\n    }\n</style>\n<table border=\"1\" class=\"dataframe\">\n  <thead>\n    <tr style=\"text-align: right;\">\n      <th>waterfront</th>\n    </tr>\n    <tr>\n      <th>id</th>\n    </tr>\n  </thead>\n  <tbody>\n  </tbody>\n</table>\n</div>"
          },
          "metadata": {}
        }
      ]
    },
    {
      "cell_type": "code",
      "source": "",
      "metadata": {},
      "execution_count": null,
      "outputs": []
    },
    {
      "cell_type": "markdown",
      "source": "3.4 Каких домов в зависимости от этажности и количества спален больше?",
      "metadata": {}
    },
    {
      "cell_type": "code",
      "source": "pd.crosstab(index=df['bedrooms'], columns=df['floors'])",
      "metadata": {
        "trusted": true
      },
      "execution_count": 38,
      "outputs": [
        {
          "execution_count": 38,
          "output_type": "execute_result",
          "data": {
            "text/plain": "Empty DataFrame\nColumns: []\nIndex: []",
            "text/html": "<div>\n<style scoped>\n    .dataframe tbody tr th:only-of-type {\n        vertical-align: middle;\n    }\n\n    .dataframe tbody tr th {\n        vertical-align: top;\n    }\n\n    .dataframe thead th {\n        text-align: right;\n    }\n</style>\n<table border=\"1\" class=\"dataframe\">\n  <thead>\n    <tr style=\"text-align: right;\">\n      <th>floors</th>\n    </tr>\n    <tr>\n      <th>bedrooms</th>\n    </tr>\n  </thead>\n  <tbody>\n  </tbody>\n</table>\n</div>"
          },
          "metadata": {}
        }
      ]
    },
    {
      "cell_type": "code",
      "source": "",
      "metadata": {},
      "execution_count": null,
      "outputs": []
    },
    {
      "cell_type": "code",
      "source": "",
      "metadata": {},
      "execution_count": null,
      "outputs": []
    },
    {
      "cell_type": "code",
      "source": "",
      "metadata": {},
      "execution_count": null,
      "outputs": []
    },
    {
      "cell_type": "code",
      "source": "",
      "metadata": {},
      "execution_count": null,
      "outputs": []
    },
    {
      "cell_type": "code",
      "source": "",
      "metadata": {},
      "execution_count": null,
      "outputs": []
    },
    {
      "cell_type": "code",
      "source": "",
      "metadata": {},
      "execution_count": null,
      "outputs": []
    },
    {
      "cell_type": "code",
      "source": "",
      "metadata": {},
      "execution_count": null,
      "outputs": []
    },
    {
      "cell_type": "code",
      "source": "",
      "metadata": {},
      "execution_count": null,
      "outputs": []
    },
    {
      "cell_type": "code",
      "source": "",
      "metadata": {},
      "execution_count": null,
      "outputs": []
    },
    {
      "cell_type": "code",
      "source": "",
      "metadata": {},
      "execution_count": null,
      "outputs": []
    },
    {
      "cell_type": "code",
      "source": "",
      "metadata": {},
      "execution_count": null,
      "outputs": []
    },
    {
      "cell_type": "code",
      "source": "",
      "metadata": {},
      "execution_count": null,
      "outputs": []
    }
  ]
}